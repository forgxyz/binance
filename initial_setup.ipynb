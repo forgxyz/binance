{
 "cells": [
  {
   "cell_type": "code",
   "execution_count": 10,
   "id": "37ff95e4",
   "metadata": {},
   "outputs": [],
   "source": [
    "import json\n",
    "from binance.client import Client"
   ]
  },
  {
   "cell_type": "code",
   "execution_count": 11,
   "id": "d81721f9",
   "metadata": {},
   "outputs": [],
   "source": [
    "with open(\"credentials.json\", \"r\") as f:\n",
    "    creds = json.load(f)"
   ]
  },
  {
   "cell_type": "code",
   "execution_count": 12,
   "id": "3f8e2d42",
   "metadata": {},
   "outputs": [],
   "source": [
    "# important - don't forget the tld='us'\n",
    "client = Client(creds['API_KEY'], creds['SECRET_KEY'], tld='us')"
   ]
  },
  {
   "cell_type": "code",
   "execution_count": 23,
   "id": "b5836254",
   "metadata": {},
   "outputs": [
    {
     "data": {
      "text/plain": [
       "{'asset': 'BTC', 'free': '0.02177968', 'locked': '0.00975991'}"
      ]
     },
     "execution_count": 23,
     "metadata": {},
     "output_type": "execute_result"
    }
   ],
   "source": [
    "client.get_asset_balance(asset='BTC')"
   ]
  },
  {
   "cell_type": "code",
   "execution_count": 33,
   "id": "bce71f58",
   "metadata": {},
   "outputs": [],
   "source": [
    "order = client.order_limit_sell(\n",
    "    symbol='BNBBTC',\n",
    "    quantity=1,\n",
    "    price='0.015')"
   ]
  },
  {
   "cell_type": "code",
   "execution_count": 29,
   "id": "c6083b9d",
   "metadata": {},
   "outputs": [
    {
     "data": {
      "text/plain": [
       "{'mins': 5, 'price': '0.01050460'}"
      ]
     },
     "execution_count": 29,
     "metadata": {},
     "output_type": "execute_result"
    }
   ],
   "source": [
    "client.get_avg_price(symbol='BNBBTC')"
   ]
  },
  {
   "cell_type": "code",
   "execution_count": 34,
   "id": "3d84a44c",
   "metadata": {},
   "outputs": [
    {
     "data": {
      "text/plain": [
       "{'symbol': 'BNBBTC',\n",
       " 'orderId': 41635656,\n",
       " 'orderListId': -1,\n",
       " 'clientOrderId': 'ILaDjT7vTCwJo5OzeNL8SD',\n",
       " 'transactTime': 1619104451844,\n",
       " 'price': '0.01500000',\n",
       " 'origQty': '1.00000000',\n",
       " 'executedQty': '0.00000000',\n",
       " 'cummulativeQuoteQty': '0.00000000',\n",
       " 'status': 'NEW',\n",
       " 'timeInForce': 'GTC',\n",
       " 'type': 'LIMIT',\n",
       " 'side': 'SELL',\n",
       " 'fills': []}"
      ]
     },
     "execution_count": 34,
     "metadata": {},
     "output_type": "execute_result"
    }
   ],
   "source": [
    "order"
   ]
  },
  {
   "cell_type": "code",
   "execution_count": 35,
   "id": "e25ba8a1",
   "metadata": {},
   "outputs": [],
   "source": [
    "result = client.cancel_order(\n",
    "    symbol='BNBBTC',\n",
    "    orderId='41635656')"
   ]
  },
  {
   "cell_type": "code",
   "execution_count": 36,
   "id": "4b6a22a3",
   "metadata": {},
   "outputs": [
    {
     "data": {
      "text/plain": [
       "{'symbol': 'BNBBTC',\n",
       " 'origClientOrderId': 'ILaDjT7vTCwJo5OzeNL8SD',\n",
       " 'orderId': 41635656,\n",
       " 'orderListId': -1,\n",
       " 'clientOrderId': 'CZJ1jV4RSUssCOWVsIDhJ7',\n",
       " 'price': '0.01500000',\n",
       " 'origQty': '1.00000000',\n",
       " 'executedQty': '0.00000000',\n",
       " 'cummulativeQuoteQty': '0.00000000',\n",
       " 'status': 'CANCELED',\n",
       " 'timeInForce': 'GTC',\n",
       " 'type': 'LIMIT',\n",
       " 'side': 'SELL'}"
      ]
     },
     "execution_count": 36,
     "metadata": {},
     "output_type": "execute_result"
    }
   ],
   "source": [
    "result"
   ]
  }
 ],
 "metadata": {
  "kernelspec": {
   "display_name": "Python 3",
   "language": "python",
   "name": "python3"
  },
  "language_info": {
   "codemirror_mode": {
    "name": "ipython",
    "version": 3
   },
   "file_extension": ".py",
   "mimetype": "text/x-python",
   "name": "python",
   "nbconvert_exporter": "python",
   "pygments_lexer": "ipython3",
   "version": "3.9.0"
  }
 },
 "nbformat": 4,
 "nbformat_minor": 5
}
