{
 "cells": [
  {
   "cell_type": "code",
   "execution_count": 125,
   "metadata": {},
   "outputs": [],
   "source": [
    "#imports\n",
    "import pandas as pd, shutil, os, time, glob\n",
    "import numpy as np\n",
    "from binance.client import Client\n",
    "import json\n",
    "import datetime\n",
    "import requests\n",
    "from statistics import mean"
   ]
  },
  {
   "cell_type": "code",
   "execution_count": 126,
   "metadata": {},
   "outputs": [],
   "source": [
    "list_files = (glob.glob(\"Price_data/*\"))"
   ]
  },
  {
   "cell_type": "code",
   "execution_count": 127,
   "metadata": {},
   "outputs": [],
   "source": [
    "Compare_Coins = pd.DataFrame(columns=[\"Coin\", \"Days_Observed\", \"Crosses\", \"True_Positive\", \"False_Positive\", \"True_Negative\", \"False_Negative\", \"Sensitivity\", \n",
    "\"Specificity\", \"Accuracy\", \"TPR\", \"FPR\"])"
   ]
  },
  {
   "cell_type": "code",
   "execution_count": 128,
   "metadata": {},
   "outputs": [],
   "source": [
    "coin_names = []"
   ]
  },
  {
   "cell_type": "code",
   "execution_count": 129,
   "metadata": {},
   "outputs": [],
   "source": [
    "for coin in list_files:\n",
    "    all_data = pd.read_csv(coin)\n",
    "    coin_name = ((os.path.basename(coin)).split(\"_\")[0])\n",
    "    prices_temp = pd.DataFrame(all_data['p_close'])\n",
    "    coin_names.append(coin_name)"
   ]
  },
  {
   "cell_type": "code",
   "execution_count": 130,
   "metadata": {},
   "outputs": [
    {
     "data": {
      "text/plain": [
       "['BNBBTC',\n",
       " 'BTCUSD',\n",
       " 'RVNUSD',\n",
       " 'XTZUSD',\n",
       " 'ADAUSD',\n",
       " 'REPUSD',\n",
       " 'MKRUSD',\n",
       " 'ETCUSD',\n",
       " 'NANOUSD',\n",
       " 'BANDUSD',\n",
       " 'MANAUSD',\n",
       " 'LTCUSD',\n",
       " 'DAIUSD',\n",
       " 'COMPUSD',\n",
       " 'DOGEUSD',\n",
       " 'ICXUSD',\n",
       " 'UNIUSD',\n",
       " 'BCHUSD',\n",
       " 'LINKBTC',\n",
       " 'EGLDUSD',\n",
       " 'ANKRUSD',\n",
       " 'ONEUSD',\n",
       " 'MATICUSD',\n",
       " 'ENJUSD',\n",
       " 'XLMUSD',\n",
       " 'ETHUSD',\n",
       " 'VTHOUSD',\n",
       " 'PAXGUSD',\n",
       " 'EOSUSD',\n",
       " 'OMGUSD',\n",
       " 'XRPUSD',\n",
       " 'ZENUSD',\n",
       " 'VETUSD',\n",
       " 'ONTUSD',\n",
       " 'DASHUSD',\n",
       " 'HNTUSD',\n",
       " 'FILUSD',\n",
       " 'ALGOUSD',\n",
       " 'BATUSD',\n",
       " 'ZILUSD',\n",
       " 'OXTUSD',\n",
       " 'NEOUSD',\n",
       " 'IOTAUSD',\n",
       " 'AAVEUSD',\n",
       " 'VETBTC',\n",
       " 'ZRXUSD',\n",
       " 'KNCUSD',\n",
       " 'XRPBTC',\n",
       " 'ETHBTC',\n",
       " 'SUSHIUSD',\n",
       " 'AMPUSD',\n",
       " 'STORJUSD',\n",
       " 'BCHBTC',\n",
       " 'LINKUSD',\n",
       " 'WAVESUSD',\n",
       " 'SOLUSD',\n",
       " 'UNIBTC',\n",
       " 'LTCBTC',\n",
       " 'ZECUSD',\n",
       " 'QTUMUSD',\n",
       " 'ATOMUSD',\n",
       " 'XTZBTC',\n",
       " 'HBARUSD',\n",
       " 'ADABTC',\n",
       " 'GRTUSD']"
      ]
     },
     "execution_count": 130,
     "metadata": {},
     "output_type": "execute_result"
    }
   ],
   "source": [
    "coin_names"
   ]
  },
  {
   "cell_type": "code",
   "execution_count": null,
   "metadata": {},
   "outputs": [],
   "source": []
  }
 ],
 "metadata": {
  "kernelspec": {
   "display_name": "Python 3",
   "language": "python",
   "name": "python3"
  },
  "language_info": {
   "codemirror_mode": {
    "name": "ipython",
    "version": 3
   },
   "file_extension": ".py",
   "mimetype": "text/x-python",
   "name": "python",
   "nbconvert_exporter": "python",
   "pygments_lexer": "ipython3",
   "version": "3.8.5"
  }
 },
 "nbformat": 4,
 "nbformat_minor": 4
}
