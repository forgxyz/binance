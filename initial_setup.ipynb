{
 "cells": [
  {
   "cell_type": "code",
   "execution_count": 1,
   "id": "37ff95e4",
   "metadata": {},
   "outputs": [],
   "source": [
    "import json\n",
    "from binance.client import Client"
   ]
  },
  {
   "cell_type": "code",
   "execution_count": 2,
   "id": "d81721f9",
   "metadata": {},
   "outputs": [],
   "source": [
    "with open(\"credentials.json\", \"r\") as f:\n",
    "    creds = json.load(f)"
   ]
  },
  {
   "cell_type": "code",
   "execution_count": 3,
   "id": "3f8e2d42",
   "metadata": {},
   "outputs": [],
   "source": [
    "# important - don't forget the tld='us'\n",
    "client = Client(creds['API_KEY'], creds['SECRET_KEY'], tld='us')"
   ]
  }
 ],
 "metadata": {
  "kernelspec": {
   "display_name": "Python 3",
   "language": "python",
   "name": "python3"
  },
  "language_info": {
   "codemirror_mode": {
    "name": "ipython",
    "version": 3
   },
   "file_extension": ".py",
   "mimetype": "text/x-python",
   "name": "python",
   "nbconvert_exporter": "python",
   "pygments_lexer": "ipython3",
   "version": "3.9.0"
  }
 },
 "nbformat": 4,
 "nbformat_minor": 5
}
