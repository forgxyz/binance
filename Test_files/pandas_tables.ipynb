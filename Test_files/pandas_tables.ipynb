{
 "cells": [
  {
   "cell_type": "code",
   "execution_count": 1,
   "metadata": {},
   "outputs": [],
   "source": [
    "import json\n",
    "from binance.client import Client\n",
    "import pandas as pd"
   ]
  },
  {
   "cell_type": "code",
   "execution_count": 2,
   "metadata": {},
   "outputs": [],
   "source": [
    "with open(\"credentials.json\", \"r\") as f:\n",
    "    creds = json.load(f)\n",
    "client = Client(creds['API_KEY'], creds['SECRET_KEY'], tld='us')"
   ]
  },
  {
   "cell_type": "code",
   "execution_count": 3,
   "metadata": {},
   "outputs": [],
   "source": [
    "tickers = client.get_ticker()"
   ]
  },
  {
   "cell_type": "code",
   "execution_count": 7,
   "metadata": {},
   "outputs": [],
   "source": [
    "# not the easiest to read, so add it to a pandas DataFrame\n",
    "tickers_df = pd.DataFrame(tickers)"
   ]
  },
  {
   "cell_type": "code",
   "execution_count": 8,
   "metadata": {},
   "outputs": [
    {
     "name": "stdout",
     "output_type": "stream",
     "text": [
      "       symbol priceChange priceChangePercent weightedAvgPrice prevClosePrice  \\\n",
      "0      BTCUSD   -956.9000             -2.001       47339.4132     47833.0600   \n",
      "1      ETHUSD     91.9200              2.789        3348.9204      3297.2100   \n",
      "2      XRPUSD      0.0000              0.000           0.0000         0.2970   \n",
      "3      BCHUSD    -12.9700             -2.016         637.0843       643.3400   \n",
      "4      LTCUSD     -2.6900             -1.559         170.3572       172.5800   \n",
      "..        ...         ...                ...              ...            ...   \n",
      "112   AAVEUSD     18.8700              5.108         376.2275       367.9100   \n",
      "113    GRTUSD     -0.0328             -3.714           0.8724         0.8851   \n",
      "114  SUSHIUSD     -0.1000             -0.844          11.7920        11.8450   \n",
      "115   ANKRUSD     -0.0024             -2.332           0.1016         0.1030   \n",
      "116    AMPUSD     -0.0013             -2.381           0.0539         0.0548   \n",
      "\n",
      "      lastPrice          lastQty    bidPrice           bidQty    askPrice  \\\n",
      "0    46868.6000       0.00893900  46877.0600       1.20000000  46885.8900   \n",
      "1     3387.6500       0.54000000   3386.9100       0.36952000   3387.9600   \n",
      "2        0.0000       0.00000000      0.0000       0.00000000      0.0000   \n",
      "3      630.4400       0.84760000    630.3700       0.84720000    630.6700   \n",
      "4      169.9100       0.08832000    169.5300       1.70000000    169.6700   \n",
      "..          ...              ...         ...              ...         ...   \n",
      "112    388.2900       0.03860000    386.1100       4.68440000    386.7400   \n",
      "113      0.8503    2347.44000000      0.8473     887.46000000      0.8490   \n",
      "114     11.7520       0.93600000     11.7290     255.49400000     11.7460   \n",
      "115      0.1005  164192.10000000      0.1003   40467.90000000      0.1006   \n",
      "116      0.0533  100222.40000000      0.0533  315222.40000000      0.0534   \n",
      "\n",
      "     ...   openPrice   highPrice    lowPrice              volume  \\\n",
      "0    ...  47825.5000  48276.6600  46707.6500       1254.39843600   \n",
      "1    ...   3295.7300   3474.2100   3190.4900      32599.00259000   \n",
      "2    ...      0.0000      0.0000      0.0000          0.00000000   \n",
      "3    ...    643.4100    651.5700    624.1400       1944.20315000   \n",
      "4    ...    172.6000    175.4000    165.7400      24215.81690000   \n",
      "..   ...         ...         ...         ...                 ...   \n",
      "112  ...    369.4200    396.1000    350.6900       5569.35100000   \n",
      "113  ...      0.8831      0.9096      0.8428    1597846.00000000   \n",
      "114  ...     11.8520     12.3150     11.1550    1100734.41900000   \n",
      "115  ...      0.1029      0.1042      0.0990    8604449.20000000   \n",
      "116  ...      0.0546      0.0567      0.0519  171617664.30000000   \n",
      "\n",
      "        quoteVolume       openTime      closeTime   firstId    lastId   count  \n",
      "0     59382485.8422  1630362583551  1630448983551  21008217  21070867   62651  \n",
      "1    109171464.7893  1630362582617  1630448982617  18146313  18250384  104072  \n",
      "2            0.0000  1627896778573  1627983178573        -1        -1       0  \n",
      "3      1238621.3455  1630362583684  1630448983684   1984797   1989335    4539  \n",
      "4      4125339.3232  1630362583683  1630448983683   3868028   3878163   10136  \n",
      "..              ...            ...            ...       ...       ...     ...  \n",
      "112    2095343.2151  1630362583680  1630448983680    109351    113737    4387  \n",
      "113    1394017.4193  1630362583196  1630448983196    117820    120004    2185  \n",
      "114   12979826.3067  1630362582858  1630448982858    595805    606805   11001  \n",
      "115     873991.1024  1630362579809  1630448979809     86222     87881    1660  \n",
      "116    9241636.1537  1630362581886  1630448981886    331437    350726   19290  \n",
      "\n",
      "[117 rows x 21 columns]\n"
     ]
    }
   ],
   "source": [
    "print(tickers_df)"
   ]
  },
  {
   "cell_type": "code",
   "execution_count": 22,
   "metadata": {
    "scrolled": true
   },
   "outputs": [
    {
     "data": {
      "text/plain": [
       "['BTCUSD',\n",
       " 'ETHUSD',\n",
       " 'XRPUSD',\n",
       " 'BCHUSD',\n",
       " 'LTCUSD',\n",
       " 'BNBUSD',\n",
       " 'ADAUSD',\n",
       " 'BATUSD',\n",
       " 'ETCUSD',\n",
       " 'XLMUSD',\n",
       " 'ZRXUSD',\n",
       " 'LINKUSD',\n",
       " 'RVNUSD',\n",
       " 'DASHUSD',\n",
       " 'ZECUSD',\n",
       " 'ALGOUSD',\n",
       " 'IOTAUSD',\n",
       " 'BUSDUSD',\n",
       " 'BTCBUSD',\n",
       " 'WAVESUSD',\n",
       " 'ATOMUSD',\n",
       " 'NEOUSD',\n",
       " 'QTUMUSD',\n",
       " 'NANOUSD',\n",
       " 'ICXUSD',\n",
       " 'ENJUSD',\n",
       " 'ONTUSD',\n",
       " 'ZILUSD',\n",
       " 'ZILBUSD',\n",
       " 'VETUSD',\n",
       " 'BNBBUSD',\n",
       " 'XRPBUSD',\n",
       " 'ETHBUSD',\n",
       " 'ALGOBUSD',\n",
       " 'XTZUSD',\n",
       " 'XTZBUSD',\n",
       " 'HBARUSD',\n",
       " 'HBARBUSD',\n",
       " 'OMGUSD',\n",
       " 'OMGBUSD',\n",
       " 'MATICUSD',\n",
       " 'MATICBUSD',\n",
       " 'REPBUSD',\n",
       " 'REPUSD',\n",
       " 'EOSBUSD',\n",
       " 'EOSUSD',\n",
       " 'DOGEUSD',\n",
       " 'KNCUSD',\n",
       " 'VTHOUSD',\n",
       " 'USDCUSD',\n",
       " 'COMPUSD',\n",
       " 'MANAUSD',\n",
       " 'HNTUSD',\n",
       " 'MKRUSD',\n",
       " 'DAIUSD',\n",
       " 'ONEUSD',\n",
       " 'BANDUSD',\n",
       " 'STORJUSD',\n",
       " 'UNIUSD',\n",
       " 'SOLUSD',\n",
       " 'EGLDUSD',\n",
       " 'PAXGUSD',\n",
       " 'OXTUSD',\n",
       " 'ZENUSD',\n",
       " 'BTCUSDC',\n",
       " 'ONEBUSD',\n",
       " 'FILUSD',\n",
       " 'AAVEUSD',\n",
       " 'GRTUSD',\n",
       " 'SUSHIUSD',\n",
       " 'ANKRUSD',\n",
       " 'AMPUSD']"
      ]
     },
     "execution_count": 22,
     "metadata": {},
     "output_type": "execute_result"
    }
   ],
   "source": [
    "symbols = tickers_df.symbol\n",
    "USD_symbols = []\n",
    "for symbol in symbols:\n",
    "    if \"USDT\" in symbol:\n",
    "        pass\n",
    "    elif \"USD\" in symbol:\n",
    "        USD_symbols.append(symbol)\n",
    "        \n",
    "USD_symbols"
   ]
  }
 ],
 "metadata": {
  "kernelspec": {
   "display_name": "Python 3",
   "language": "python",
   "name": "python3"
  },
  "language_info": {
   "codemirror_mode": {
    "name": "ipython",
    "version": 3
   },
   "file_extension": ".py",
   "mimetype": "text/x-python",
   "name": "python",
   "nbconvert_exporter": "python",
   "pygments_lexer": "ipython3",
   "version": "3.8.5"
  }
 },
 "nbformat": 4,
 "nbformat_minor": 5
}
